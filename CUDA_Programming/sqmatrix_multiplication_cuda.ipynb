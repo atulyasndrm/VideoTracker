{
  "nbformat": 4,
  "nbformat_minor": 0,
  "metadata": {
    "colab": {
      "provenance": []
    },
    "kernelspec": {
      "name": "python3",
      "display_name": "Python 3"
    },
    "language_info": {
      "name": "python"
    },
    "accelerator": "GPU",
    "gpuClass": "standard"
  },
  "cells": [
    {
      "cell_type": "code",
      "execution_count": 8,
      "metadata": {
        "colab": {
          "base_uri": "https://localhost:8080/"
        },
        "id": "Kv5dUWxvNGmv",
        "outputId": "e700c157-c1d1-4801-e7ab-616b1b7a33a7"
      },
      "outputs": [
        {
          "output_type": "stream",
          "name": "stdout",
          "text": [
            "Overwriting sqmatrixmul.cu\n"
          ]
        }
      ],
      "source": [
        "%%writefile sqmatrixmul.cu\n",
        "\n",
        "//Square Matrix Multiplication on GPU using cuda\n",
        "\n",
        "#include <cstdlib>\n",
        "#include <cassert>\n",
        "#include <iostream>\n",
        "\n",
        "using namespace std;\n",
        "\n",
        "//kernel function\n",
        "__global__\n",
        "void matrixMul(int* a, int* b, int* c, int N){\n",
        "  int row = blockIdx.y * blockDim.y + threadIdx.y;\n",
        "  int col = blockIdx.x *  blockDim.x + threadIdx.x;\n",
        "\n",
        "  if(row < N && col < N){\n",
        "    int temp = 0;\n",
        "\n",
        "    for(int k = 0; k < N; k++){\n",
        "      temp += a[row*N + k]*b[k*N + col];\n",
        "    }\n",
        "    c[row*N + col] = temp;\n",
        "  }\n",
        "}\n",
        "\n",
        "//host function to verify our result\n",
        "void verifyMul(int* a, int* b, int* c, int N){\n",
        "\n",
        "  int temp;\n",
        "  for(int i = 0; i < N; i++){\n",
        "    for(int j = 0; j < N; j++){\n",
        "      temp = 0;\n",
        "      for(int k = 0; k < N; k++){\n",
        "        temp += a[i*N + k]*b[k*N + j];\n",
        "      }\n",
        "      assert(temp == c[i*N + j]);\n",
        "    }\n",
        "  }\n",
        "}\n",
        "\n",
        "//CUDA does not allow run-time allocation of a 2D matrix, this essentiates the need for linearization of 2D Matrix\n",
        "void initMatrix(int* a, int N){\n",
        "  for(int i = 0; i < N*N; i++){\n",
        "    a[i] = rand() % 100; // number from 0-99\n",
        "  }\n",
        "}\n",
        "\n",
        "int main(){\n",
        "  int N = 1 << 10;\n",
        "  size_t sz = N*N*sizeof(int);\n",
        "\n",
        "  //allocating and initializing matrices\n",
        "  int *h_a, *h_b, *h_c;\n",
        "  h_a = (int*)malloc(sz);\n",
        "  h_b = (int*)malloc(sz);\n",
        "  h_c = (int*)malloc(sz);\n",
        "\n",
        "  int *d_a, *d_b, *d_c;\n",
        "  cudaMalloc(&d_a, sz);\n",
        "  cudaMalloc(&d_b, sz);\n",
        "  cudaMalloc(&d_c, sz);\n",
        "\n",
        "\n",
        "  initMatrix(h_a, N);\n",
        "  initMatrix(h_b, N);\n",
        "\n",
        "  cudaMemcpy(d_a, h_a, sz, cudaMemcpyHostToDevice);\n",
        "  cudaMemcpy(d_b, h_b, sz, cudaMemcpyHostToDevice);\n",
        "\n",
        "\n",
        "  int threads = 16;\n",
        "  int blocks = (N + threads - 1) / threads;\n",
        "  dim3 grid_size(blocks, blocks);\n",
        "  dim3 block_size(threads, threads);\n",
        "\n",
        "  //Launching Kernel\n",
        "  matrixMul<<<grid_size, block_size>>>(d_a, d_b, d_c, N);\n",
        "  cudaDeviceSynchronize();\n",
        "  cudaMemcpy(h_c, d_c, sz, cudaMemcpyDeviceToHost);\n",
        "\n",
        "  //Verifying the result\n",
        "  verifyMul(h_a, h_b, h_c, N);\n",
        "\n",
        "  return 0;\n",
        "}\n",
        "\n"
      ]
    },
    {
      "cell_type": "code",
      "source": [
        "!nvcc -o sqmatrixmul sqmatrixmul.cu"
      ],
      "metadata": {
        "id": "F6AldPHQNP29"
      },
      "execution_count": 9,
      "outputs": []
    },
    {
      "cell_type": "code",
      "source": [
        "!./sqmatrixmul"
      ],
      "metadata": {
        "id": "sihAHeMHNRtU"
      },
      "execution_count": null,
      "outputs": []
    },
    {
      "cell_type": "code",
      "source": [
        "!nvprof --print-gpu-trace ./sqmatrixmul"
      ],
      "metadata": {
        "id": "lDinSTFENT3O"
      },
      "execution_count": null,
      "outputs": []
    },
    {
      "cell_type": "code",
      "source": [],
      "metadata": {
        "id": "xIeCnPQvPZFz"
      },
      "execution_count": null,
      "outputs": []
    }
  ]
}